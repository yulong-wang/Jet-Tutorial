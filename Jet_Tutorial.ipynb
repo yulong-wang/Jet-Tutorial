{
 "cells": [
  {
   "cell_type": "code",
   "execution_count": 1,
   "metadata": {},
   "outputs": [],
   "source": [
    "import math\n",
    "import random"
   ]
  },
  {
   "cell_type": "code",
   "execution_count": 2,
   "metadata": {},
   "outputs": [],
   "source": [
    "class Tree(object):\n",
    "    def __init__(self, data, left = None, right = None):\n",
    "        self.left = left\n",
    "        self.right = right\n",
    "        self.data = data\n",
    "    \n",
    "    def __str__(self):\n",
    "        return str(self.data)\n",
    "    \n",
    "    def getTerminals(self, util = []):\n",
    "        terminals = []\n",
    "        for i in util:\n",
    "            terminals.append(i)\n",
    "        \n",
    "        if self.left != None:\n",
    "            terminals = self.left.getTerminals(terminals)\n",
    "        if self.right != None:\n",
    "            terminals = self.right.getTerminals(terminals)\n",
    "        if self.left == None and self.right == None:\n",
    "            terminals.append(self.data)\n",
    "        return terminals\n",
    "    \n",
    "    def printAll(self, numSpaces = 0):\n",
    "        if self.right != None:\n",
    "            self.right.printAll(numSpaces + 10)\n",
    "            print(\"\\n\")\n",
    "        \n",
    "        for i in range(numSpaces):\n",
    "            print(end = \" \")\n",
    "        print(self)\n",
    "        \n",
    "        if self.left != None:\n",
    "            print(\"\\n\")\n",
    "            self.left.printAll(numSpaces + 10)"
   ]
  },
  {
   "cell_type": "code",
   "execution_count": 3,
   "metadata": {},
   "outputs": [],
   "source": [
    "class Jet(Tree):\n",
    "    E_INITIAL = 8000\n",
    "    E_CRIT = 0.17\n",
    "    \n",
    "    def randZ():\n",
    "        y = random.random()\n",
    "        z = 2 ** y - 1\n",
    "        return z\n",
    "    \n",
    "    def randTheta():\n",
    "        y = random.random()\n",
    "        theta = (1 + math.pi / 2) ** y - 1\n",
    "        return theta\n",
    "    \n",
    "    def randPhi():\n",
    "        return math.pi * random.random()\n",
    "    \n",
    "    def pInitial():\n",
    "        e = - Jet.E_INITIAL * math.log(1 - random.random())\n",
    "        theta = math.pi * random.random()\n",
    "        phi = 2 * math.pi * random.random()\n",
    "        p1 = [0, 0, 0, 0]\n",
    "        p2 = [0, 0, 0, 0]\n",
    "        \n",
    "        p1[0] = e\n",
    "        p1[1] = e * math.sin(theta) * math.cos(phi)\n",
    "        p1[2] = e * math.sin(theta) * math.sin(phi)\n",
    "        p1[3] = e * math.cos(theta)\n",
    "        \n",
    "        p2[0] = p1[0]\n",
    "        for i in [1, 2, 3]: p2[i] = - p1[i]\n",
    "        return [p1, p2]\n",
    "    \n",
    "    def radiate(p):\n",
    "        rad = [0, 0, 0, 0]\n",
    "        z = Jet.randZ()\n",
    "        theta = Jet.randTheta()\n",
    "        phi = Jet.randPhi()\n",
    "        s = math.sqrt(p[1] ** 2 + p[2] ** 2)\n",
    "        \n",
    "        rad[0] = z * p[0]\n",
    "        if s != 0:\n",
    "            rad[1] = z * ((p[1] * p[3] * math.sin(theta) * math.cos(phi) - p[2] * p[0] * math.sin(theta) * math.sin(phi)) / s + p[1] * math.cos(theta))\n",
    "            rad[2] = z * ((p[2] * p[3] * math.sin(theta) * math.cos(phi) + p[1] * p[0] * math.sin(theta) * math.sin(phi)) / s + p[2] * math.cos(theta))\n",
    "        else:\n",
    "            rad[1] = z * (p[3] * math.sin(theta) * math.cos(phi) + p[1] * math.cos(theta))\n",
    "            rad[2] = z * (p[0] * math.sin(theta) * math.sin(phi) + p[2] * math.cos(theta)) \n",
    "        rad[3] = z * (p[3] * math.cos(theta) - s * math.sin(theta) * math.cos(phi))\n",
    "        return rad\n",
    "    \n",
    "    def __init__(self, data):\n",
    "        super().__init__(data)\n",
    "        if data[0] > Jet.E_CRIT:\n",
    "            rad = Jet.radiate(data)\n",
    "            f = [0, 0, 0, 0]\n",
    "            \n",
    "            for i in range(4):\n",
    "                f[i] = data[i] - rad[i]\n",
    "            self.left = Jet(rad)\n",
    "            self.right = Jet(f)"
   ]
  },
  {
   "cell_type": "code",
   "execution_count": 4,
   "metadata": {},
   "outputs": [],
   "source": [
    "p = Jet.pInitial()\n",
    "j1 = Jet(p[0])\n",
    "j2 = Jet(p[1])"
   ]
  },
  {
   "cell_type": "code",
   "execution_count": 11,
   "metadata": {
    "scrolled": true
   },
   "outputs": [
    {
     "name": "stdout",
     "output_type": "stream",
     "text": [
      "24702 24815\n",
      "1.2480436223308675 2.0017684341123925\n"
     ]
    }
   ],
   "source": [
    "h1 = j1.getTerminals()\n",
    "h2 = j2.getTerminals()\n",
    "sumTheta1 = 0\n",
    "sumTheta2 = 0\n",
    "count1 = 0\n",
    "count2 = 0\n",
    "\n",
    "for i in h1:\n",
    "    sumTheta1 += math.atan(math.sqrt(i[1] ** 2 + i[2] ** 2) / i[3])\n",
    "    count1 += 1\n",
    "for j in h2:\n",
    "    sumTheta2 += math.atan(math.sqrt(j[1] ** 2 + j[2] ** 2) / j[3])\n",
    "    count2 += 1\n",
    "print(count1, count2)\n",
    "print(sumTheta1 * 180 / (count1 * math.pi), sumTheta2 * 180 / (count2 * math.pi))"
   ]
  },
  {
   "cell_type": "code",
   "execution_count": null,
   "metadata": {},
   "outputs": [],
   "source": []
  }
 ],
 "metadata": {
  "kernelspec": {
   "display_name": "Python 3",
   "language": "python",
   "name": "python3"
  },
  "language_info": {
   "codemirror_mode": {
    "name": "ipython",
    "version": 3
   },
   "file_extension": ".py",
   "mimetype": "text/x-python",
   "name": "python",
   "nbconvert_exporter": "python",
   "pygments_lexer": "ipython3",
   "version": "3.7.3"
  }
 },
 "nbformat": 4,
 "nbformat_minor": 2
}
