{
 "cells": [
  {
   "cell_type": "code",
   "execution_count": 23,
   "metadata": {},
   "outputs": [],
   "source": [
    "import math\n",
    "import random"
   ]
  },
  {
   "cell_type": "code",
   "execution_count": 24,
   "metadata": {},
   "outputs": [],
   "source": [
    "class Tree(object):\n",
    "    def __init__(self, data, left = None, right = None):\n",
    "        self.left = left\n",
    "        self.right = right\n",
    "        self.data = data\n",
    "    \n",
    "    def __str__(self):\n",
    "        return str(self.data)\n",
    "    \n",
    "    def getTerminals(self, terminals = []):\n",
    "        if self.left != None:\n",
    "            terminals = self.left.getTerminals(terminals)\n",
    "        if self.right != None:\n",
    "            terminals = self.right.getTerminals(terminals)\n",
    "        if self.left == None and self.right == None:\n",
    "            terminals.append(self.data)\n",
    "        return terminals\n",
    "    \n",
    "    def printAll(self, numSpaces = 0):\n",
    "        if self.right != None:\n",
    "            self.right.printAll(numSpaces + 10)\n",
    "            print(\"\\n\")\n",
    "        \n",
    "        for i in range(numSpaces):\n",
    "            print(end = \" \")\n",
    "        print(self)\n",
    "        \n",
    "        if self.left != None:\n",
    "            print(\"\\n\")\n",
    "            self.left.printAll(numSpaces + 10)"
   ]
  },
  {
   "cell_type": "code",
   "execution_count": 29,
   "metadata": {},
   "outputs": [],
   "source": [
    "class Jet(Tree):\n",
    "    E_INITIAL = 8000\n",
    "    E_CRIT = 0.17\n",
    "    \n",
    "    def randZ():\n",
    "        y = random.random()\n",
    "        z = 2 ** y - 1\n",
    "        return z\n",
    "    \n",
    "    def randTheta():\n",
    "        y = random.random()\n",
    "        theta = (1 + math.pi / 2) ** y - 1\n",
    "        return theta\n",
    "    \n",
    "    def randPhi():\n",
    "        return math.pi * random.random()\n",
    "    \n",
    "    def pInitial():\n",
    "        e = - Jet.E_INITIAL * math.log(1 - random.random())\n",
    "        theta = math.pi * random.random()\n",
    "        phi = 2 * math.pi * random.random()\n",
    "        p = [0, 0, 0, 0]\n",
    "        \n",
    "        p[0] = e\n",
    "        p[1] = e * math.sin(theta) * math.cos(phi)\n",
    "        p[2] = e * math.sin(theta) * math.sin(phi)\n",
    "        p[3] = e * math.cos(theta)\n",
    "        return p\n",
    "    \n",
    "    def radiate(p):\n",
    "        rad = [0, 0, 0, 0]\n",
    "        z = Jet.randZ()\n",
    "        theta = Jet.randTheta()\n",
    "        phi = Jet.randPhi()\n",
    "        s = math.sqrt(p[1] ** 2 + p[2] ** 2)\n",
    "        \n",
    "        rad[0] = z * p[0]\n",
    "        if s != 0:\n",
    "            rad[1] = z * ((p[1] * p[3] * math.sin(theta) * math.cos(phi) - p[2] * p[0] * math.sin(theta) * math.sin(phi)) / s + p[1] * math.cos(theta))\n",
    "            rad[2] = z * ((p[2] * p[3] * math.sin(theta) * math.cos(phi) + p[1] * p[0] * math.sin(theta) * math.sin(phi)) / s + p[2] * math.cos(theta))\n",
    "        else:\n",
    "            rad[1] = z * (p[3] * math.sin(theta) * math.cos(phi) + p[1] * math.cos(theta))\n",
    "            rad[2] = z * (p[0] * math.sin(theta) * math.sin(phi) + p[2] * math.cos(theta)) \n",
    "        rad[3] = z * (p[3] * math.cos(theta) - s * math.sin(theta) * math.cos(phi))\n",
    "        return rad\n",
    "    \n",
    "    def __init__(self, data):\n",
    "        super().__init__(data)\n",
    "        if data[0] > Jet.E_CRIT:\n",
    "            rad = Jet.radiate(data)\n",
    "            f = [0, 0, 0, 0]\n",
    "            \n",
    "            for i in range(4):\n",
    "                f[i] = data[i] - rad[i]\n",
    "            self.left = Jet(rad)\n",
    "            self.right = Jet(f)"
   ]
  },
  {
   "cell_type": "code",
   "execution_count": 30,
   "metadata": {},
   "outputs": [],
   "source": [
    "a = Jet(Jet.pInitial())"
   ]
  },
  {
   "cell_type": "code",
   "execution_count": 36,
   "metadata": {
    "scrolled": true
   },
   "outputs": [
    {
     "name": "stdout",
     "output_type": "stream",
     "text": [
      "262073\n",
      "3.1230138700151286\n"
     ]
    }
   ],
   "source": [
    "b = a.getTerminals()\n",
    "sumTheta = 0\n",
    "count = 0\n",
    "for i in b:\n",
    "    sumTheta += math.atan(math.sqrt(i[1] ** 2 + i[2] ** 2) / i[3])\n",
    "    count += 1\n",
    "print(count)\n",
    "print(sumTheta * 180 / (count * math.pi))"
   ]
  },
  {
   "cell_type": "code",
   "execution_count": null,
   "metadata": {},
   "outputs": [],
   "source": []
  }
 ],
 "metadata": {
  "kernelspec": {
   "display_name": "Python 3",
   "language": "python",
   "name": "python3"
  },
  "language_info": {
   "codemirror_mode": {
    "name": "ipython",
    "version": 3
   },
   "file_extension": ".py",
   "mimetype": "text/x-python",
   "name": "python",
   "nbconvert_exporter": "python",
   "pygments_lexer": "ipython3",
   "version": "3.7.3"
  }
 },
 "nbformat": 4,
 "nbformat_minor": 2
}
